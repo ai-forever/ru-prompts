{
 "cells": [
  {
   "cell_type": "code",
   "execution_count": null,
   "metadata": {},
   "outputs": [],
   "source": [
    "%pip install ruprompts"
   ]
  },
  {
   "cell_type": "code",
   "execution_count": null,
   "metadata": {},
   "outputs": [],
   "source": [
    "!wget https://raw.githubusercontent.com/skoltech-nlp/russe_detox_2022/main/data/input/train.tsv\n",
    "!wget https://raw.githubusercontent.com/skoltech-nlp/russe_detox_2022/main/data/input/dev.tsv"
   ]
  },
  {
   "cell_type": "code",
   "execution_count": null,
   "metadata": {},
   "outputs": [],
   "source": [
    "import pandas as pd\n",
    "\n",
    "df = pd.read_csv(\"train.tsv\", sep=\"\\t\")\n",
    "df.drop([\"index\"], axis=1, inplace=True)\n",
    "df.to_csv(\"train.tsv\", index=False, sep=\"\\t\")"
   ]
  },
  {
   "cell_type": "code",
   "execution_count": null,
   "metadata": {},
   "outputs": [],
   "source": [
    "from ruprompts import Prompt\n",
    "from transformers import pipeline, GPT2LMHeadModel, AutoTokenizer\n",
    "\n",
    "backbone_id = \"ai-forever/rugpt3large_based_on_gpt2\"\n",
    "\n",
    "prompt = Prompt.from_pretrained(\"konodyuk/prompt_rugpt3large_detox_russe\")\n",
    "model = GPT2LMHeadModel.from_pretrained(backbone_id)\n",
    "tokenizer = AutoTokenizer.from_pretrained(backbone_id)\n",
    "\n",
    "ppln = pipeline(\"text2text-generation-with-prompt\", prompt=prompt, model=model, tokenizer=tokenizer, device=0)"
   ]
  },
  {
   "cell_type": "code",
   "execution_count": null,
   "metadata": {},
   "outputs": [],
   "source": [
    "from datasets import load_dataset\n",
    "\n",
    "dataset_dict = load_dataset(\"csv\", data_files={\"train\": \"train.tsv\", \"validation\": \"dev.tsv\"}, sep=\"\\t\")\n",
    "valid_dataset = dataset_dict[\"validation\"]"
   ]
  },
  {
   "cell_type": "code",
   "execution_count": null,
   "metadata": {},
   "outputs": [],
   "source": [
    "from tqdm import tqdm\n",
    "import transformers\n",
    "\n",
    "transformers.logging.set_verbosity_error()\n",
    "\n",
    "beam_count = 10\n",
    "\n",
    "predictions = []\n",
    "\n",
    "for i in tqdm(valid_dataset[\"toxic_comment\"]):\n",
    "    options = ppln(\n",
    "        i,\n",
    "        do_sample=False,\n",
    "        num_beams=beam_count,\n",
    "        num_return_sequences=beam_count,\n",
    "    )\n",
    "\n",
    "    options = [i[\"generated_text\"].replace(\"<pad>\", \"\") for i in options]\n",
    "    answer = sorted(options, key=len)[-1]  # get longest answer\n",
    "    predictions.append(answer)\n",
    "\n",
    "with open(\"subm.txt\", \"w\") as f:\n",
    "    f.writelines(list(map(lambda x: x.replace(\"\\n\", \" \") + \"\\n\", predictions)))\n"
   ]
  }
 ],
 "metadata": {
  "language_info": {
   "name": "python"
  },
  "orig_nbformat": 4
 },
 "nbformat": 4,
 "nbformat_minor": 2
}
