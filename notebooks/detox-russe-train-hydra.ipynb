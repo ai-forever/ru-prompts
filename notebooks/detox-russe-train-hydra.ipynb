{
 "cells": [
  {
   "cell_type": "code",
   "execution_count": null,
   "metadata": {},
   "outputs": [],
   "source": [
    "%pip install ruprompts[hydra]"
   ]
  },
  {
   "cell_type": "code",
   "execution_count": null,
   "metadata": {},
   "outputs": [],
   "source": [
    "!wget https://raw.githubusercontent.com/skoltech-nlp/russe_detox_2022/main/data/input/train.tsv\n",
    "!wget https://raw.githubusercontent.com/skoltech-nlp/russe_detox_2022/main/data/input/dev.tsv"
   ]
  },
  {
   "cell_type": "code",
   "execution_count": null,
   "metadata": {},
   "outputs": [],
   "source": [
    "import pandas as pd\n",
    "\n",
    "df = pd.read_csv(\"train.tsv\", sep=\"\\t\")\n",
    "df.drop([\"index\"], axis=1, inplace=True)\n",
    "df.to_csv(\"train.tsv\", index=False, sep=\"\\t\")"
   ]
  },
  {
   "cell_type": "markdown",
   "metadata": {},
   "source": [
    "## Training"
   ]
  },
  {
   "cell_type": "code",
   "execution_count": null,
   "metadata": {},
   "outputs": [],
   "source": [
    "!CUDA_VISIBLE_DEVICES=0 ruprompts-train \\\n",
    "    task=text2text \\\n",
    "    training.run_name=detox-russe-tensor-linear-lr-1e-1-bs-2-length-120 \\\n",
    "    task.task_name=detox-russe \\\n",
    "    prompt_provider=tensor \\\n",
    "    prompt_format.template='\"<P*100>{toxic_comment}<P*20>\"' \\\n",
    "    training.learning_rate=1e-1 \\\n",
    "    training.per_device_train_batch_size=2 \\\n",
    "    training.max_steps=100000 \\\n",
    "    scheduler=linear_schedule_with_warmup \\\n",
    "    +dataset=from_tsv \\\n",
    "    dataset.data_files.train=./train.tsv \\\n",
    "    dataset.data_files.validation=./dev.tsv \\\n",
    "    preprocessing.target_field=neutral_comment1 \\\n",
    "    preprocessing.truncation_field=toxic_comment \\\n",
    "    preprocessing.max_tokens=1792 \\\n",
    "    callbacks=[freeze_transformer_unfreeze_prompt,reduce_checkpoint,save_pretrained_prompt] \\\n",
    "    training.report_to=tensorboard \\\n",
    "    hydra.run.dir=\".\""
   ]
  },
  {
   "cell_type": "markdown",
   "metadata": {},
   "source": [
    "## Inference"
   ]
  },
  {
   "cell_type": "code",
   "execution_count": null,
   "metadata": {},
   "outputs": [],
   "source": [
    "from ruprompts import Prompt\n",
    "from transformers import pipeline, GPT2LMHeadModel, AutoTokenizer\n",
    "\n",
    "backbone_id = \"ai-forever/rugpt3large_based_on_gpt2\"\n",
    "\n",
    "prompt = Prompt.from_pretrained(\"./checkpoint-100000\")\n",
    "model = GPT2LMHeadModel.from_pretrained(backbone_id)\n",
    "tokenizer = AutoTokenizer.from_pretrained(backbone_id)\n",
    "\n",
    "ppln = pipeline(\"text2text-generation-with-prompt\", prompt=prompt, model=model, tokenizer=tokenizer, device=0)"
   ]
  },
  {
   "cell_type": "code",
   "execution_count": null,
   "metadata": {},
   "outputs": [],
   "source": [
    "from datasets import load_dataset\n",
    "\n",
    "dataset_dict = load_dataset(\"csv\", data_files={\"train\": \"train.tsv\", \"validation\": \"dev.tsv\"}, sep=\"\\t\")\n",
    "valid_dataset = dataset_dict[\"validation\"]"
   ]
  },
  {
   "cell_type": "code",
   "execution_count": null,
   "metadata": {},
   "outputs": [],
   "source": [
    "from tqdm import tqdm\n",
    "import transformers\n",
    "transformers.logging.set_verbosity_error()\n",
    "\n",
    "beam_count = 10\n",
    "\n",
    "predictions = []\n",
    "    \n",
    "for i in tqdm(valid_dataset[\"toxic_comment\"]):\n",
    "    options = ppln(\n",
    "        {\"toxic_comment\": i},\n",
    "        do_sample=False,\n",
    "        num_beams=beam_count,\n",
    "        num_return_sequences=beam_count,\n",
    "    )\n",
    "\n",
    "    options = [i[\"generated_text\"].replace(\"<pad>\", \"\") for i in options]\n",
    "    answer = sorted(options, key=len)[-1]  # get longest answer\n",
    "    predictions.append(answer)\n",
    "\n",
    "with open(\"subm.txt\", \"w\") as f:\n",
    "    f.writelines(list(map(lambda x: x.replace(\"\\n\", \" \") + \"\\n\", predictions)))"
   ]
  }
 ],
 "metadata": {
  "language_info": {
   "name": "python"
  },
  "orig_nbformat": 4
 },
 "nbformat": 4,
 "nbformat_minor": 2
}
